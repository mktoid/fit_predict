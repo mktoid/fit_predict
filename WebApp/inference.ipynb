{
 "cells": [
  {
   "cell_type": "code",
   "execution_count": 3,
   "metadata": {},
   "outputs": [
    {
     "name": "stdout",
     "output_type": "stream",
     "text": [
      "'Артериальная гипертензия_Дом хоз'\r\n",
      "'ОНМК_Дом хоз'\r\n",
      "'Прочие заболевания сердца_Дом хоз'\r\n",
      "'Сердечная недостаточность_Дом хоз'\r\n",
      "'Стенокардия, ИБС, инфаркт миокарда_Дом хоз'\r\n"
     ]
    }
   ],
   "source": [
    "!ls 'models/Дом хоз'"
   ]
  },
  {
   "cell_type": "code",
   "execution_count": 4,
   "metadata": {},
   "outputs": [
    {
     "name": "stdout",
     "output_type": "stream",
     "text": [
      "'Артериальная гипертензия_Дом хоз.xlsx'\r\n",
      "'ОНМК_Дом хоз.xlsx'\r\n",
      "'Прочие заболевания сердца_Дом хоз.xlsx'\r\n",
      "'Сердечная недостаточность_Дом хоз.xlsx'\r\n",
      "'Стенокардия, ИБС, инфаркт миокарда_Дом хоз.xlsx'\r\n"
     ]
    }
   ],
   "source": [
    "!ls 'feats/Дом хоз'"
   ]
  },
  {
   "cell_type": "code",
   "execution_count": 17,
   "metadata": {},
   "outputs": [],
   "source": [
    "import joblib\n",
    "import pandas as pd"
   ]
  },
  {
   "cell_type": "code",
   "execution_count": 18,
   "metadata": {},
   "outputs": [],
   "source": [
    "diagnoses = [\n",
    "'Артериальная гипертензия',\n",
    "'ОНМК',\n",
    "'Прочие заболевания сердца',\n",
    "'Сердечная недостаточность',\n",
    "'Стенокардия, ИБС, инфаркт миокарда'\n",
    "]"
   ]
  },
  {
   "cell_type": "code",
   "execution_count": 27,
   "metadata": {},
   "outputs": [],
   "source": [
    "models = dict()\n",
    "feats = dict()\n",
    "for d in diagnoses:\n",
    "    models[d] = joblib.load('models/Дом хоз/'+ d +'_Дом хоз')\n",
    "    feats[d] = list(pd.read_excel('feats/Дом хоз/'+ d +'_Дом хоз.xlsx')['cols'].values)"
   ]
  },
  {
   "cell_type": "code",
   "execution_count": 33,
   "metadata": {},
   "outputs": [],
   "source": [
    "used_features = set()\n",
    "for fe in feats:\n",
    "    for f in feats[fe]:\n",
    "        used_features.add(f)"
   ]
  },
  {
   "cell_type": "code",
   "execution_count": 34,
   "metadata": {},
   "outputs": [
    {
     "data": {
      "text/plain": [
       "{'Велосипед',\n",
       " 'Гараж',\n",
       " 'Готовка вне дома, месяц',\n",
       " 'Деньги на пищу',\n",
       " 'Достаток по срав с друг',\n",
       " 'Ежемес доход',\n",
       " 'Источник воды',\n",
       " 'Лавка',\n",
       " 'ПК',\n",
       " 'Площадь дачи',\n",
       " 'Площадь жилья',\n",
       " 'Ферма',\n",
       " 'Холодильник',\n",
       " 'Часть дохода на еду',\n",
       " 'Число ПК',\n",
       " 'Число авто',\n",
       " 'Число комнат',\n",
       " 'Число телев'}"
      ]
     },
     "execution_count": 34,
     "metadata": {},
     "output_type": "execute_result"
    }
   ],
   "source": [
    "used_features"
   ]
  },
  {
   "cell_type": "code",
   "execution_count": 16,
   "metadata": {},
   "outputs": [],
   "source": [
    "feats = dict()\n",
    "for d in diagnoses:\n",
    "    [d] = joblib.load('models/Дом хоз/'+ d +'_Дом хоз')\n",
    "    \n",
    "models"
   ]
  },
  {
   "cell_type": "code",
   "execution_count": 26,
   "metadata": {},
   "outputs": [
    {
     "data": {
      "text/plain": [
       "['Площадь жилья',\n",
       " 'Гараж',\n",
       " 'Достаток по срав с друг',\n",
       " 'Ежемес доход',\n",
       " 'Площадь дачи',\n",
       " 'Число ПК',\n",
       " 'ПК',\n",
       " 'Число авто',\n",
       " 'Готовка вне дома, месяц',\n",
       " 'Ферма']"
      ]
     },
     "execution_count": 26,
     "metadata": {},
     "output_type": "execute_result"
    }
   ],
   "source": [
    "list(pd.read_excel('feats/Дом хоз/'+ d +'_Дом хоз.xlsx')['cols'].values)"
   ]
  },
  {
   "cell_type": "code",
   "execution_count": 35,
   "metadata": {},
   "outputs": [],
   "source": [
    "items = {\n",
    "  \"Велосипед\": 1,\n",
    "  \"Гараж\": 1,\n",
    "  \"Готовка вне дома, месяц\": 1,\n",
    "  \"Деньги на пищу\": 100,\n",
    "  \"Достаток по срав с друг\": \"очень низкий\",\n",
    "  \"Ежемес доход\": 18000,\n",
    "  \"Источник воды\": \"перекачиваемая вода\",\n",
    "  \"Лавка\": 0,\n",
    "  \"ПК\": 1,\n",
    "  \"Площадь дачи\": 100,\n",
    "  \"Площадь жилья\": 50,\n",
    "  \"Ферма\": 1,\n",
    "  \"Холодильник\": 1,\n",
    "  \"Часть дохода на еду\": \"очень низкий\",\n",
    "  \"Число ПК\": 1,\n",
    "  \"Число авто\": 1,\n",
    "  \"Число комнат\": 2,\n",
    "  \"Число телев\": 1\n",
    "}"
   ]
  },
  {
   "cell_type": "code",
   "execution_count": 39,
   "metadata": {},
   "outputs": [],
   "source": [
    "df = pd.DataFrame(items, index=[0])"
   ]
  },
  {
   "cell_type": "code",
   "execution_count": null,
   "metadata": {},
   "outputs": [],
   "source": []
  }
 ],
 "metadata": {
  "kernelspec": {
   "display_name": "Python 3",
   "language": "python",
   "name": "python3"
  },
  "language_info": {
   "codemirror_mode": {
    "name": "ipython",
    "version": 3
   },
   "file_extension": ".py",
   "mimetype": "text/x-python",
   "name": "python",
   "nbconvert_exporter": "python",
   "pygments_lexer": "ipython3",
   "version": "3.7.6"
  }
 },
 "nbformat": 4,
 "nbformat_minor": 4
}
